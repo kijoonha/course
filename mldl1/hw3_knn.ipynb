{
  "nbformat": 4,
  "nbformat_minor": 0,
  "metadata": {
    "colab": {
      "provenance": [],
      "gpuType": "T4"
    },
    "kernelspec": {
      "name": "python3",
      "display_name": "Python 3"
    },
    "language_info": {
      "name": "python"
    },
    "accelerator": "GPU",
    "gpuClass": "standard"
  },
  "cells": [
    {
      "cell_type": "markdown",
      "metadata": {
        "id": "rR3VeoqMIFbq"
      },
      "source": [
        "## Import Modules"
      ]
    },
    {
      "cell_type": "code",
      "metadata": {
        "id": "JAC2qQEy7rM8"
      },
      "source": [
        "import numpy as np\n",
        "import pandas as pd\n",
        "import matplotlib.pyplot as plt"
      ],
      "execution_count": 3,
      "outputs": []
    },
    {
      "cell_type": "markdown",
      "metadata": {
        "id": "jMw488CqIOhm"
      },
      "source": [
        "## K-Nearest Neighbor Implementation"
      ]
    },
    {
      "cell_type": "markdown",
      "source": [
        "Complete (a) the **train** ,(b) the **compute_distance** method, and (c) the **evaluate**.\n",
        "The definitions of various distance metrics used in **compute_distance**, are given as below. Case using the dot product method is already implemented. Complete the remaining cases for using remaining distance metrics. Remember, vectorization is important for efficient calculation.\n",
        "\n",
        "* Dot product distance: $d(x_i, x_j) = 1 - x_i \\cdot x_j$\n",
        "* Cosine distance: $d(x_i, x_j) = 1 - cos(x_i, x_j)$, where $cos()$ returns the cosine of the angle between two input vectors.\n",
        "* L1 distance: $d(x_i, x_j) = \\sum_{k=1}^{n} |x_{ik} - x_{jk}|$\n",
        "* L2 (Euclidean) distance: $d(x_i, x_j) = \\sqrt{\\sum_{k=1}^{n} (x_{ik} - x_{jk})^2}$\n",
        "* Chebyshev distance: $d(x_i, x_j) = \\max_{k}{|x_{ik} - x_{jk}|}$"
      ],
      "metadata": {
        "id": "q48EtJ9t2T9m"
      }
    },
    {
      "cell_type": "code",
      "metadata": {
        "id": "zpsV2Bb3r3s4"
      },
      "source": [
        "class KNN:\n",
        "    \"\"\" k-nearest neighbor classifier class \"\"\"\n",
        "\n",
        "    def train(self, X, y):\n",
        "        \"\"\"\n",
        "        Train the classifier using the given training data (X, y).\n",
        "        Recall that for k-nearest neighbors this is just memorizing the training data.\n",
        "\n",
        "        Question (a)\n",
        "\n",
        "        Inputs\n",
        "        - X: A numpy array of shape (N, D), where N is the number of data points,\n",
        "            D is the dimensionality of each data point.\n",
        "        - y: A numpy array of shape (N,) containing the training labels, where\n",
        "            y[i] is the label for X[i]. With C classes, each y[i] is an integer\n",
        "            from 0 to C-1.\n",
        "        \"\"\"\n",
        "        ###########################################\n",
        "        self.X_train = X\n",
        "        self.y_train = y\n",
        "        ########################################### \n",
        "\n",
        "    def inference(self, X_test, k=1, dist_metric='Dot'):\n",
        "        \"\"\"\n",
        "        For each test example in X, this method predicts its label by majority vote\n",
        "        from the k nearest training samples. It returns the predicted labels. \n",
        "\n",
        "        Do NOT Modify this method.\n",
        "\n",
        "        Inputs\n",
        "        - X_test: A numpy array of shape (N, D), where N is the number of test data points,\n",
        "            D is the dimensionality of each data point.\n",
        "        - X_train: A numpy array of shape (M, D), where M is the number of training data points,\n",
        "            D is the dimensionality of each data point.\n",
        "        - k: The number of neighbors to participate in voting.\n",
        "            dist_metric: Determines the distance metric to use. The default is dot-product ('dot'),\n",
        "            but you will need to implement 'l2' for question (b).\n",
        "\n",
        "        Returns\n",
        "        - y_pred: A numpy array of shape (N,) containing predicted labels for the test data X,\n",
        "            where y_pred[i] is the predicted label for the test point X[i].\n",
        "        \"\"\"\n",
        "        dists = self.compute_distance(X_test, dist_metric)\n",
        "        y_pred = self.predict_labels(X_test, dists, k)\n",
        "        return y_pred\n",
        "\n",
        "    def compute_distance(self, X_test, dist_metric='L2'):\n",
        "        \"\"\"\n",
        "        Computes the distance between the training data and test data, \n",
        "        using the distance metrics written above.\n",
        "        Use self.X_train to retrieve training data.\n",
        "\n",
        "        Question (b)\n",
        "\n",
        "        Inputs\n",
        "        - X_test: A numpy array of shape (N, D), where N is the number of test data points,\n",
        "            D is the dimensionality of each data point.\n",
        "        - dist_metric: Determines the distance metric to use.\n",
        "\n",
        "        Returns\n",
        "        - dists: A numpy array of shape (N, M) where N is the number of test data points, \n",
        "            and M is the number of traininig data points, containing distances between \n",
        "            each pair of test and train data  points based on the given distance metric.\n",
        "        \"\"\"\n",
        "        if dist_metric=='Dot': \n",
        "            dists = 1 - X_test @ self.X_train.T\n",
        "\n",
        "        elif dist_metric=='Cos':\n",
        "            ###########################################\n",
        "            X_train_norm = np.linalg.norm(self.X_train.T, axis=0, keepdims=True) \n",
        "            X_test_norm = np.linalg.norm(X_test, axis=1, keepdims=True) \n",
        "            dists = 1 - ((X_test @ self.X_train.T)/X_train_norm)/X_test_norm\n",
        "            ########################################### \n",
        "\n",
        "        elif dist_metric=='L1':\n",
        "            ###########################################\n",
        "            N = X_test.shape[0]\n",
        "            M = self.X_train.shape[0]\n",
        "            X_train_tr = np.tile(self.X_train, (N,1))\n",
        "            X_test_tr = np.repeat(X_test, M, axis =0 )\n",
        "            dist_temp = np.sum(np.abs(X_train_tr-X_test_tr), axis=1)\n",
        "            dists = dist_temp.reshape(N, M)\n",
        "\n",
        "            ########################################### \n",
        "\n",
        "        elif dist_metric=='L2':          \n",
        "            ###########################################\n",
        "            N = X_test.shape[0]\n",
        "            M = self.X_train.shape[0]\n",
        "            X_train_tr = np.tile(self.X_train, (N,1))\n",
        "            X_test_tr = np.repeat(X_test, M, axis =0 )\n",
        "            dist_temp = np.sqrt(np.sum((X_train_tr-X_test_tr)**2, axis=1))\n",
        "            dists = dist_temp.reshape(N, M)#  https://yganalyst.github.io/ml/ML_kNN_numpy/ 참고\n",
        "            ###########################################\n",
        "\n",
        "        elif dist_metric=='Chebyshev':          \n",
        "            ###########################################\n",
        "            \n",
        "            N = X_test.shape[0]\n",
        "            M = self.X_train.shape[0]\n",
        "            X_train_tr = np.tile(self.X_train, (N,1))\n",
        "            X_test_tr = np.repeat(X_test, M, axis =0 )\n",
        "            dist_temp = np.max((X_train_tr-X_test_tr), axis=1)\n",
        "            dists = dist_temp.reshape(N, M)                                         \n",
        "            ########################################### \n",
        "        return dists\n",
        "\n",
        "    def predict_labels(self, X_test, dists, k):\n",
        "        \"\"\"\n",
        "        For the given test image, this method takes a majority vote from k closest points\n",
        "        to predict the class of the test image.\n",
        "\n",
        "        Question (c)\n",
        "        \n",
        "        Inputs\n",
        "        - X_test: A numpy array of shape (N, D), where N is the number of test data points,\n",
        "            D is the dimensionality of each data point.\n",
        "        - dists: A numpy array of shape (N, M) where N is the number of test data points, \n",
        "            and M is the number of traininig data points, containing distances between \n",
        "            each pair of test and train data points based on the given distance metric.\n",
        "        - k: The number of neighbors to participate in voting.\n",
        "\n",
        "        Returns\n",
        "        - y_pred: A numpy array of shape (N,) containing predicted labels for the test data X,\n",
        "            where y_pred[i] is the predicted label for the test point X[i].\n",
        "        \"\"\"\n",
        "        ###########################################\n",
        "        N = X_test.shape[0]\n",
        "        y_pred = np.zeros(N) \n",
        "        dist_sort_idx = dists.argsort()\n",
        "        for i in range(N):\n",
        "          nearest = self.y_train[dist_sort_idx[i][:k]]\n",
        "          label, cnt = np.unique(nearest, return_counts=True)\n",
        "          y_pred[i] = label[np.argmax(cnt)] \n",
        "          #https://yganalyst.github.io/ml/ML_kNN_numpy/  참고\n",
        "\n",
        "\n",
        "        ########################################### \n",
        "        return y_pred\n",
        "\n",
        "    def evaluate(self, y, y_hat):\n",
        "        \"\"\"\n",
        "        Compares the predicted labels to the ground truth y, and prints the\n",
        "        classification accuracy.\n",
        "        \n",
        "        Do NOT Modify this method.\n",
        "\n",
        "        Inputs\n",
        "        - y: A numpy array of shape (N,) containing the ground truth labels, where\n",
        "            N is the number of test examples. With C classes, each y[i] is an integer\n",
        "            from 0 to C-1.\n",
        "        - y_hat: A numpy array of shape (N,) containing the predicted labels, where\n",
        "            N is the number of test examples. With C classes, each y_pred[i] is\n",
        "            an integer from 0 to C-1.\n",
        "            \n",
        "        Returns:\n",
        "        - accuracy\n",
        "        \"\"\"\n",
        "        y_hat = np.expand_dims(y_hat, axis=1)\n",
        "        num_correct = np.sum(y_hat == y)\n",
        "        accuracy = float(num_correct) / y.shape[0]\n",
        "        return accuracy"
      ],
      "execution_count": 4,
      "outputs": []
    },
    {
      "cell_type": "markdown",
      "metadata": {
        "id": "yvwolO5qHzXl"
      },
      "source": [
        "## Data Loading (MNIST)"
      ]
    },
    {
      "cell_type": "code",
      "metadata": {
        "id": "zR9dOpGX_0iz"
      },
      "source": [
        "from torch.utils.data import DataLoader, Dataset\n",
        "import torchvision\n",
        "from torchvision import transforms\n",
        "\n",
        "class DatasetMNIST(Dataset):\n",
        "    \"\"\" Dataset for the MNIST dataset \"\"\"\n",
        "\n",
        "    def __init__(self, file_path, transform=None):\n",
        "      \"\"\"\n",
        "      Do NOT modify this function.\n",
        "      \"\"\"\n",
        "      self.data = pd.read_csv(file_path)\n",
        "      self.transform = transform\n",
        "    \n",
        "    def __len__(self):\n",
        "      \"\"\"\n",
        "      Do NOT modify this function.\n",
        "      \"\"\"\n",
        "      return len(self.data)\n",
        "\n",
        "    def __getitem__(self, index):\n",
        "      \"\"\"\n",
        "      Define __getitem__ method of the DatasetMNIST class. \n",
        "      Carefully consider the structure of the CSV file and define the image and label.\n",
        "      The image needs to be reshaped and transformed.\n",
        "      Question (d)\n",
        "\n",
        "      Input :\n",
        "      - index\n",
        "\n",
        "      Returns :\n",
        "      - image \n",
        "      - label \n",
        "      \"\"\" \n",
        "\n",
        "      ###########################################\n",
        "      \n",
        "    \n",
        "      label = self.data.iloc[index,0]\n",
        "      image_tmp1 = self.data.iloc[index, 1:]\n",
        "      image_tmp2 = image_tmp1.to_numpy().reshape(28,28)\n",
        "      \n",
        "      if self.transform != None:\n",
        "        image = self.transform(image_tmp2.reshape(28,28))\n",
        "      \n",
        "      ###########################################\n",
        "      \n",
        "      return image, label \n",
        "\n",
        "class Data:\n",
        "    \"\"\"DataLoader and print_example for the MNIST dataset \"\"\"\n",
        "\n",
        "    def __init__(self):\n",
        "      pass\n",
        "    \n",
        "    def load_data(self, train_data, test_data):\n",
        "        \"\"\"\n",
        "        Create DataLoaders that iterate over the train_data and the test_data.\n",
        "        Each iteration of the dataloaders should return a batch of the data.\n",
        "        Set the batch size to 1000 for the train_data and 200 for the test_data.\n",
        "        Make sure that the data is shuffled after iterating over all batches.\n",
        "        Use DataLoader class in pytorch.\n",
        "\n",
        "        Question (d)\n",
        "\n",
        "        Input :\n",
        "        - train_data\n",
        "        - test_data\n",
        "\n",
        "        Returns :\n",
        "        - train_loader \n",
        "        - test_loader \n",
        "        \"\"\" \n",
        "        \n",
        "        ###########################################\n",
        "\n",
        "        train_loader = DataLoader(dataset=train_data, batch_size=1000, shuffle=True)\n",
        "        test_loader = DataLoader(dataset=test_data, batch_size=200, shuffle=True)\n",
        "\n",
        "        ###########################################\n",
        "\n",
        "        return train_loader, test_loader\n",
        "\n",
        "    def print_example(self, test_loader):\n",
        "        \"\"\"\n",
        "        Do NOT modify this function.\n",
        "\n",
        "        Check out a sample of the test data and print out 6 images in a rectangular form (height*width = 2*3).\n",
        "        \n",
        "        iterate one batch from the test_loader and print out the batch's shape. \n",
        "  \n",
        "        Input :\n",
        "        - test_loader \n",
        "        \"\"\" \n",
        "\n",
        "        examples = enumerate(test_loader)\n",
        "        batch_idx, (images, one_batch_labels) = next(examples)\n",
        "\n",
        "        print(\"one batch's shape: \", images.shape)\n",
        "\n",
        "        fig = plt.figure()\n",
        "        for i in range(6):\n",
        "          plt.subplot(2, 3, i + 1)\n",
        "          plt.imshow(images[i][0], cmap='gray')\n",
        "          plt.title(\"Ground Truth: {}\".format(one_batch_labels[i]))\n",
        "          plt.xticks([])\n",
        "          plt.yticks([])\n",
        "    \n",
        "        print(fig)"
      ],
      "execution_count": 5,
      "outputs": []
    },
    {
      "cell_type": "code",
      "metadata": {
        "colab": {
          "base_uri": "https://localhost:8080/",
          "height": 461
        },
        "id": "UOzrdgGSHVXF",
        "outputId": "cd315d30-33f1-4458-e687-219976f6bd0c"
      },
      "source": [
        "train_file_path = '/content/sample_data/mnist_train_small.csv'\n",
        "train_data = DatasetMNIST(file_path = train_file_path, transform = torchvision.transforms.ToTensor())\n",
        "\n",
        "test_file_path = '/content/sample_data/mnist_test.csv'\n",
        "test_data = DatasetMNIST(file_path = test_file_path, transform = torchvision.transforms.ToTensor())\n",
        "\n",
        "img, label = test_data.__getitem__(0)\n",
        "print(('image shape at the first row : {}'.format(img.size())))\n",
        "\n",
        "data = Data()\n",
        "train_loader, test_loader = data.load_data(train_data, test_data)\n",
        "data.print_example(test_loader)"
      ],
      "execution_count": 6,
      "outputs": [
        {
          "output_type": "stream",
          "name": "stdout",
          "text": [
            "image shape at the first row : torch.Size([1, 28, 28])\n",
            "one batch's shape:  torch.Size([200, 1, 28, 28])\n",
            "Figure(640x480)\n"
          ]
        },
        {
          "output_type": "display_data",
          "data": {
            "text/plain": [
              "<Figure size 640x480 with 6 Axes>"
            ],
            "image/png": "[encoded data removed]"
          },
          "metadata": {}
        }
      ]
    },
    {
      "cell_type": "code",
      "source": [
        "num_train_data = 1000\n",
        "num_test_data = 200\n",
        "\n",
        "X_train, y_train = next(iter(train_loader))\n",
        "X_train = X_train.reshape(num_train_data, -1).numpy()\n",
        "y_train = y_train.unsqueeze(1).numpy()\n",
        "\n",
        "X_test, y_test = next(iter(test_loader))\n",
        "X_test = X_test.reshape(num_test_data, -1).numpy()\n",
        "y_test = y_test.unsqueeze(1).numpy()\n",
        "\n",
        "print('Sampling Training & Test Data.....\\n')\n",
        "print('Training data shape: {}'.format(X_train.shape))\n",
        "print('Training labels shape: {}'.format(y_train.shape))\n",
        "print('Test data shape: {}'.format(X_test.shape))\n",
        "print('Test labels shape: {}'.format(y_test.shape))"
      ],
      "metadata": {
        "id": "aYJr1IyvuimE",
        "colab": {
          "base_uri": "https://localhost:8080/"
        },
        "outputId": "db8c9453-22b9-4384-896e-73bfd1d57b30"
      },
      "execution_count": 7,
      "outputs": [
        {
          "output_type": "stream",
          "name": "stdout",
          "text": [
            "Sampling Training & Test Data.....\n",
            "\n",
            "Training data shape: (1000, 784)\n",
            "Training labels shape: (1000, 1)\n",
            "Test data shape: (200, 784)\n",
            "Test labels shape: (200, 1)\n"
          ]
        }
      ]
    },
    {
      "cell_type": "markdown",
      "metadata": {
        "id": "lZDHMwziIpja"
      },
      "source": [
        "## Model Training & Evaluation"
      ]
    },
    {
      "cell_type": "code",
      "metadata": {
        "id": "nfq-3_r4IsHB"
      },
      "source": [
        "model = KNN()\n",
        "model.train(X_train, y_train)"
      ],
      "execution_count": 8,
      "outputs": []
    },
    {
      "cell_type": "code",
      "metadata": {
        "id": "fPmKakDuuc8b",
        "colab": {
          "base_uri": "https://localhost:8080/"
        },
        "outputId": "8eb6c64c-eed1-4fd0-e140-f6193fb698e5"
      },
      "source": [
        "\"\"\"\n",
        "Model usage for test.\n",
        "\"\"\"\n",
        "K = 15\n",
        "y_pred = model.inference(X_test, k=K, dist_metric='Cos')\n",
        "acc = model.evaluate(y_test, y_pred)\n",
        "print(\"Accuarcy:\", acc)"
      ],
      "execution_count": 9,
      "outputs": [
        {
          "output_type": "stream",
          "name": "stdout",
          "text": [
            "Accuarcy: 0.87\n"
          ]
        }
      ]
    },
    {
      "cell_type": "markdown",
      "metadata": {
        "id": "_-IRMbqqRtmh"
      },
      "source": [
        "## Experiments"
      ]
    },
    {
      "cell_type": "code",
      "metadata": {
        "id": "r0IsD2pwgFxM"
      },
      "source": [
        "# Modify the number of k's and metrics to try as you want\n",
        "num_ks = 30\n",
        "metrics = ['Dot', 'Cos', 'L1', 'L2', 'Chebyshev']"
      ],
      "execution_count": 12,
      "outputs": []
    },
    {
      "cell_type": "code",
      "metadata": {
        "id": "68AnUY2wSkMX",
        "colab": {
          "base_uri": "https://localhost:8080/"
        },
        "outputId": "00a504d2-991c-441b-c25b-cd420e66591e"
      },
      "source": [
        "# Run experiments\n",
        "print_k_interval = 5\n",
        "result = dict(zip(metrics, [[] for _ in range(len(metrics))]))\n",
        "for metric in metrics:\n",
        "    print(\"running KNN with {} distance metric\".format(metric))\n",
        "    for k in range(1, num_ks+1):\n",
        "        if k % print_k_interval==0:\n",
        "            print(\"    processing... k={:3d}\".format(k))\n",
        "        y_pred = model.inference(X_test, k=k, dist_metric=metric)\n",
        "        acc = model.evaluate(y_test, y_pred)\n",
        "        result[metric].append(acc)\n",
        "    print()"
      ],
      "execution_count": 13,
      "outputs": [
        {
          "output_type": "stream",
          "name": "stdout",
          "text": [
            "running KNN with Dot distance metric\n",
            "    processing... k=  5\n",
            "    processing... k= 10\n",
            "    processing... k= 15\n",
            "    processing... k= 20\n",
            "    processing... k= 25\n",
            "    processing... k= 30\n",
            "\n",
            "running KNN with Cos distance metric\n",
            "    processing... k=  5\n",
            "    processing... k= 10\n",
            "    processing... k= 15\n",
            "    processing... k= 20\n",
            "    processing... k= 25\n",
            "    processing... k= 30\n",
            "\n",
            "running KNN with L1 distance metric\n",
            "    processing... k=  5\n",
            "    processing... k= 10\n",
            "    processing... k= 15\n",
            "    processing... k= 20\n",
            "    processing... k= 25\n",
            "    processing... k= 30\n",
            "\n",
            "running KNN with L2 distance metric\n",
            "    processing... k=  5\n",
            "    processing... k= 10\n",
            "    processing... k= 15\n",
            "    processing... k= 20\n",
            "    processing... k= 25\n",
            "    processing... k= 30\n",
            "\n",
            "running KNN with Chebyshev distance metric\n",
            "    processing... k=  5\n",
            "    processing... k= 10\n",
            "    processing... k= 15\n",
            "    processing... k= 20\n",
            "    processing... k= 25\n",
            "    processing... k= 30\n",
            "\n"
          ]
        }
      ]
    },
    {
      "cell_type": "code",
      "metadata": {
        "id": "Q47KrG6ch6MH",
        "colab": {
          "base_uri": "https://localhost:8080/",
          "height": 564
        },
        "outputId": "79b6f396-36f4-4077-c6e9-2a4aa89fb32f"
      },
      "source": [
        "#Visualize the result\n",
        "fig = plt.figure(figsize=(10,6))\n",
        "ax = fig.add_subplot(1,1,1)\n",
        "\n",
        "x_axis = np.arange(1, num_ks+1, 1)\n",
        "for i, metric in enumerate(metrics):\n",
        "    ax.scatter(x_axis, result[metric], label = metric)\n",
        "\n",
        "ax.set(title=\"K-Nearest Neighbor Accuracies on different Ks\")\n",
        "ax.set(xlabel='K', ylabel='Accuracy')\n",
        "ax.set(xticks=np.arange(0, num_ks+1,5), yticks=np.arange(0.5,1.0,0.05))\n",
        "ax.legend()\n",
        "plt.show()"
      ],
      "execution_count": 14,
      "outputs": [
        {
          "output_type": "display_data",
          "data": {
            "text/plain": [
              "<Figure size 1000x600 with 1 Axes>"
            ],
            "image/png": "[encoded data removed]"
          },
          "metadata": {}
        }
      ]
    },
    {
      "cell_type": "markdown",
      "source": [
        "**Question (e)**: Interpret the result from the above graph. What distance metric would you use for MNIST classification, and why? Can you discuss why that distance is appropriate for MNIST classification?\n",
        "\n"
      ],
      "metadata": {
        "id": "ivOU_TXAuZrI"
      }
    },
    {
      "cell_type": "markdown",
      "source": [
        "Your answer: "
      ],
      "metadata": {
        "id": "eNBd8Zugv189"
      }
    },
    {
      "cell_type": "code",
      "source": [],
      "metadata": {
        "id": "1Cu_LZ2s-ZkZ"
      },
      "execution_count": 14,
      "outputs": []
    },
    {
      "cell_type": "markdown",
      "source": [
        "Cos을 사용하였을때 일관적으로 가장 높은 성능을 보임. 그리고 k값을 5씩 증가시켜 test트 해보았을때 결과를 살펴보면, k값이 증가하면서 정확도가 증가하다가 overfitting되면서 감소하는 경향을 보임. 글자마다 생긴 모양이 비슷하므로 코사인 거리 계산이나 norm을 활용한 metric이 높은 성능을 보이는 것으로 해석할 수 있음."
      ],
      "metadata": {
        "id": "qKP74ggT-ejI"
      }
    }
  ]
}