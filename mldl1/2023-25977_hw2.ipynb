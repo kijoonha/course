{
 "cells": [
  {
   "cell_type": "code",
   "execution_count": 13,
   "id": "7edeba81",
   "metadata": {},
   "outputs": [],
   "source": [
    "from sklearn.preprocessing import StandardScaler\n",
    "from sklearn.preprocessing import scale \n",
    "from sklearn import model_selection\n",
    "\n",
    "from sklearn.linear_model import LinearRegression, Ridge, RidgeCV, Lasso, LassoCV\n",
    "from sklearn.model_selection import KFold, cross_val_score, train_test_split, GridSearchCV\n",
    "from sklearn.metrics import mean_squared_error\n",
    "import pandas as pd\n",
    "from sklearn.metrics import mean_squared_error, r2_score\n",
    "import numpy as np\n",
    "import matplotlib.pyplot as plt\n",
    "import seaborn as sns"
   ]
  },
  {
   "cell_type": "markdown",
   "id": "cc05fdaf",
   "metadata": {},
   "source": [
    "# 1. (a) linear model validation error"
   ]
  },
  {
   "cell_type": "code",
   "execution_count": 14,
   "id": "63e8f662",
   "metadata": {},
   "outputs": [],
   "source": [
    "# preprocessing\n",
    "df0 = pd.read_csv(\"College.csv\", header = 0)\n",
    "df0.replace({'Yes':1,'No':0},inplace = True)\n",
    "df1 = df0.iloc[:,1:]\n",
    "\n",
    "X = df1.drop(['Apps'], axis = 'columns')\n",
    "y = df1.Apps\n"
   ]
  },
  {
   "cell_type": "code",
   "execution_count": 15,
   "id": "62465417",
   "metadata": {},
   "outputs": [
    {
     "name": "stdout",
     "output_type": "stream",
     "text": [
      "test error:  549860.2061479541\n",
      "r2:  0.9282672082562653\n"
     ]
    }
   ],
   "source": [
    "#random split, 스케일조정하고 lr\n",
    "X_train, X_test, y_train, y_test = train_test_split(X, y, test_size =0.1, random_state=3 )\n",
    "lr1 = LinearRegression()\n",
    "scaler = StandardScaler().fit(X_train)\n",
    "X_train_scaled = scaler.transform(X_train)\n",
    "lr1.fit(X_train_scaled, y_train)\n",
    "y_pred1 = lr1.predict(scaler.transform(X_test))\n",
    "\n",
    "#print(\"coefficient: \",lr1.coef_)\n",
    "#print(\"intercept: \", lr1.intercept_)\n",
    "print(\"test error: \", mean_squared_error(y_test, y_pred1))\n",
    "print(\"r2: \", r2_score(y_test, y_pred1))"
   ]
  },
  {
   "cell_type": "markdown",
   "id": "b1b04f58",
   "metadata": {},
   "source": [
    "## (b) ridge model"
   ]
  },
  {
   "cell_type": "code",
   "execution_count": 16,
   "id": "709d8f3d",
   "metadata": {},
   "outputs": [
    {
     "name": "stdout",
     "output_type": "stream",
     "text": [
      "alpha_r:  0.005\n",
      "test mse:  549845.7881064347\n",
      "ridge r2:  0.9282690891822863\n"
     ]
    }
   ],
   "source": [
    "#lamda도출하기\n",
    "ridge = Ridge()\n",
    "kf = KFold(n_splits=10, shuffle=True, random_state=3)\n",
    "alphas = 10**np.linspace(10,-2,100)*0.5\n",
    "ridgecv = RidgeCV(alphas=alphas, scoring='neg_mean_squared_error', cv=kf)\n",
    "ridgecv.fit(X_train_scaled, y_train)\n",
    "alpha_r = ridgecv.alpha_\n",
    "print('alpha_r: ', alpha_r) \n",
    "\n",
    "#test 기준 mse, # Ridge regression model with lamda 0.0005\n",
    "ridge2 = Ridge(alpha=alpha_r)\n",
    "ridge2.fit(X_train_scaled, y_train)\n",
    "print(\"test mse: \", mean_squared_error(y_test, ridge2.predict(scaler.transform(X_test))))\n",
    "print(\"ridge r2: \", r2_score(y_test, ridge2.predict(scaler.transform(X_test))))"
   ]
  },
  {
   "cell_type": "markdown",
   "id": "e06b0ae3",
   "metadata": {},
   "source": [
    "## c) lasso model"
   ]
  },
  {
   "cell_type": "code",
   "execution_count": 17,
   "id": "ab1d1ed9",
   "metadata": {
    "scrolled": true
   },
   "outputs": [
    {
     "name": "stdout",
     "output_type": "stream",
     "text": [
      "alpha:  13.137930371924996\n",
      "test mse:  511394.442258026\n",
      "lasso r2:  0.9332853139484555\n"
     ]
    }
   ],
   "source": [
    "#Lasso alpha구하기\n",
    "lasso = LassoCV(alphas = None, cv=kf, max_iter=10000)\n",
    "lasso.fit(X_train_scaled, y_train)\n",
    "print(\"alpha: \",lasso.alpha_)\n",
    "\n",
    "#Lasso test 기준 mse:\n",
    "lasso2 = Lasso(alpha=lasso.alpha_)\n",
    "lasso2.fit(X_train_scaled, y_train)\n",
    "print(\"test mse: \", mean_squared_error(y_test, lasso2.predict(scaler.transform(X_test))))\n",
    "print(\"lasso r2: \", r2_score(y_test, lasso2.predict(scaler.transform(X_test))))"
   ]
  },
  {
   "cell_type": "code",
   "execution_count": 7,
   "id": "bdc9d085",
   "metadata": {},
   "outputs": [
    {
     "name": "stdout",
     "output_type": "stream",
     "text": [
      "\"Private\"  coefficient:  -229.32887366792755\n",
      "\"Accept\"  coefficient:  3783.8509827397247\n",
      "\"Enroll\"  coefficient:  -365.7176385373201\n",
      "\"Top10perc\"  coefficient:  747.4370748523329\n",
      "\"Top25perc\"  coefficient:  -159.17336088258708\n",
      "\"F.Undergrad\"  coefficient:  0.0\n",
      "\"P.Undergrad\"  coefficient:  64.77443069369855\n",
      "\"Outstate\"  coefficient:  -282.756492085014\n",
      "\"Room.Board\"  coefficient:  154.79487644022532\n",
      "\"Books\"  coefficient:  -0.0\n",
      "\"Personal\"  coefficient:  13.915622898974275\n",
      "\"PhD\"  coefficient:  -119.01961539102203\n",
      "\"Terminal\"  coefficient:  -46.79427395477661\n",
      "\"S.F.Ratio\"  coefficient:  43.48572275663173\n",
      "\"perc.alumni\"  coefficient:  -0.0\n",
      "\"Expend\"  coefficient:  385.0690736058035\n",
      "\"Grad.Rate\"  coefficient:  128.78477745705808\n",
      "사용된 feature수 : 17개 중 14개, \n",
      "제외된 feature 3개 :  F.Undergrad Books perc.alumni\n"
     ]
    }
   ],
   "source": [
    "#coefficient\n",
    "for i in range(X.shape[1]):\n",
    "    print('\\\"'+X.columns[i]+'\\\"', ' coefficient: ', lasso2.coef_[i])\n",
    "    \n",
    "print(\"사용된 feature수 : 17개 중 14개, \\n제외된 feature 3개 : \", X.columns[5], X.columns[9], X.columns[14])"
   ]
  },
  {
   "cell_type": "markdown",
   "id": "b4a0eb3e",
   "metadata": {},
   "source": [
    "## (d) comment"
   ]
  },
  {
   "cell_type": "code",
   "execution_count": 8,
   "id": "819a931b",
   "metadata": {},
   "outputs": [
    {
     "name": "stdout",
     "output_type": "stream",
     "text": [
      "OLS의 test error:  549860.2061479541\n",
      "ridge의 test error:  549845.7881064347\n",
      "lasso의 test error:  511394.442258026\n"
     ]
    }
   ],
   "source": [
    "print(\"OLS의 test error: \", mean_squared_error(y_test, y_pred1))\n",
    "print(\"ridge의 test error: \",  mean_squared_error(y_test, ridge2.predict(scaler.transform(X_test))))\n",
    "print(\"lasso의 test error: \",  mean_squared_error(y_test, lasso2.predict(scaler.transform(X_test))))"
   ]
  },
  {
   "cell_type": "markdown",
   "id": "84980236",
   "metadata": {},
   "source": [
    "# 2.Boston dataset"
   ]
  },
  {
   "cell_type": "code",
   "execution_count": 18,
   "id": "720faf4d",
   "metadata": {},
   "outputs": [],
   "source": [
    "from sklearn.preprocessing import StandardScaler\n",
    "\n",
    "from sklearn import model_selection\n",
    "\n",
    "from sklearn.linear_model import LinearRegression, Ridge, RidgeCV, Lasso, LassoCV\n",
    "from sklearn.model_selection import KFold, cross_val_score, train_test_split, GridSearchCV\n",
    "from sklearn.metrics import mean_squared_error\n",
    "import pandas as pd\n",
    "from sklearn.metrics import mean_squared_error, r2_score\n",
    "import numpy as np\n",
    "import matplotlib.pyplot as plt\n",
    "import seaborn as sns\n",
    "from sklearn.feature_selection import SequentialFeatureSelector as sfs"
   ]
  },
  {
   "cell_type": "code",
   "execution_count": 19,
   "id": "02173301",
   "metadata": {},
   "outputs": [],
   "source": [
    "# preprocessing\n",
    "df0 = pd.read_csv(\"Boston.csv\", header = 0)\n",
    "df0.replace({'Yes':1,'No':0},inplace = True)\n",
    "df1 = df0.iloc[:,1:]\n",
    "df1.head\n",
    "\n",
    "X = df1.drop(['crim'], axis = 'columns')\n",
    "y = df1.crim"
   ]
  },
  {
   "cell_type": "code",
   "execution_count": 21,
   "id": "30cdd1d8",
   "metadata": {},
   "outputs": [
    {
     "name": "stdout",
     "output_type": "stream",
     "text": [
      "bIC:  3389.4220564895413\n",
      "패키지adjr2:  0.5170355640341698\n"
     ]
    }
   ],
   "source": [
    "#전체 변수 활용시 bic, adjr\n",
    "import statsmodels.api as stats\n",
    "model0 = stats.OLS(y, X)\n",
    "result0 = model0.fit()\n",
    "print(\"bIC: \", result0.bic)\n",
    "print(\"패키지adjr2: \", result0.rsquared_adj)"
   ]
  },
  {
   "cell_type": "markdown",
   "id": "33850e1e",
   "metadata": {},
   "source": [
    "## (a) i) forward step-wise selection"
   ]
  },
  {
   "cell_type": "code",
   "execution_count": 22,
   "id": "bac6d0c6",
   "metadata": {
    "scrolled": false
   },
   "outputs": [
    {
     "name": "stdout",
     "output_type": "stream",
     "text": [
      "변수 1 개 선택시 파라미터 list:  ['rad']\n",
      "\t BIC:  3393.8220548446307\n",
      "\t 패키지adjr2:  0.45435136167438217 \n",
      "\n",
      "변수 2 개 선택시 파라미터 list:  ['rad', 'tax']\n",
      "\t BIC:  3381.5332400756433\n",
      "\t 패키지adjr2:  0.4729129017968581 \n",
      "\n",
      "변수 3 개 선택시 파라미터 list:  ['rad', 'tax', 'lstat']\n",
      "\t BIC:  3367.705890258626\n",
      "\t 패키지adjr2:  0.49238681135644136 \n",
      "\n",
      "변수 4 개 선택시 파라미터 list:  ['rad', 'tax', 'lstat', 'nox']\n",
      "\t BIC:  3363.9270870683586\n",
      "\t 패키지adjr2:  0.5013340815981708 \n",
      "\n",
      "변수 5 개 선택시 파라미터 list:  ['rad', 'tax', 'lstat', 'nox', 'indus']\n",
      "\t BIC:  3370.0631618025363\n",
      "\t 패키지adjr2:  0.5004280611635488 \n",
      "\n",
      "변수 6 개 선택시 파라미터 list:  ['rad', 'tax', 'lstat', 'nox', 'indus', 'medv']\n",
      "\t BIC:  3369.004328707831\n",
      "\t 패키지adjr2:  0.5065844852765944 \n",
      "\n",
      "변수 7 개 선택시 파라미터 list:  ['rad', 'tax', 'lstat', 'nox', 'indus', 'medv', 'dis']\n",
      "\t BIC:  3371.444871461579\n",
      "\t 패키지adjr2:  0.5092811046065757 \n",
      "\n",
      "변수 8 개 선택시 파라미터 list:  ['rad', 'tax', 'lstat', 'nox', 'indus', 'medv', 'dis', 'age']\n",
      "\t BIC:  3377.652866860061\n",
      "\t 패키지adjr2:  0.5083137424034628 \n",
      "\n",
      "변수 9 개 선택시 파라미터 list:  ['rad', 'tax', 'lstat', 'nox', 'indus', 'medv', 'dis', 'age', 'ptratio']\n",
      "\t BIC:  3383.8527238056313\n",
      "\t 패키지adjr2:  0.5073504105231694 \n",
      "\n",
      "변수 10 개 선택시 파라미터 list:  ['rad', 'tax', 'lstat', 'nox', 'indus', 'medv', 'dis', 'age', 'ptratio', 'rm']\n",
      "\t BIC:  3383.3529746314607\n",
      "\t 패키지adjr2:  0.5128757647084006 \n",
      "\n",
      "변수 11 개 선택시 파라미터 list:  ['rad', 'tax', 'lstat', 'nox', 'indus', 'medv', 'dis', 'age', 'ptratio', 'rm', 'zn']\n",
      "\t BIC:  3383.7292470714706\n",
      "\t 패키지adjr2:  0.517502581281116 \n",
      "\n",
      "모든 변수 선택시: \n",
      "\t BIC:  3389.4220564895413\n",
      "\t 패키지adjr2:  0.5170355640341698\n",
      "가장 낮은 bic의 변수 개수:  4\n",
      "가장 높은 adjr의 변수 개수:  11\n"
     ]
    }
   ],
   "source": [
    "###Forwardselection구현! with X전체 ,r2스코어로 > 변수다넣는게 좋게나옴\n",
    "import statsmodels.api as stats\n",
    "\n",
    "X_remain = X.copy()\n",
    "lr1 = LinearRegression()\n",
    "X_con = pd.DataFrame()\n",
    "paramlist = []\n",
    "bicDict = {}\n",
    "adjrD={}\n",
    "\n",
    "for j in range(X.shape[1]):\n",
    "\n",
    "    if j==X.shape[1]-1:\n",
    "        model = stats.OLS(y, X)\n",
    "        result = model.fit()\n",
    "        print(\"모든 변수 선택시: \")\n",
    "        print(\"\\t BIC: \", result.bic)\n",
    "        bicDict[j] = result.bic\n",
    "        print(\"\\t 패키지adjr2: \", result.rsquared_adj)\n",
    "        adjrD[j] = result.rsquared_adj\n",
    "    #X1이 있는 상황을 가정하고, X2 두번째 forloop도는 경우    \n",
    "    else:\n",
    "        r2_dict = {}\n",
    "        for i in range(X_remain.shape[1]):\n",
    "            X_i = X_remain.iloc[:,[i]]\n",
    "            lr1.fit(X_i, y)\n",
    "            error = r2_score(y, lr1.predict(X_i))\n",
    "            r2_dict[i]=error\n",
    "        #X2_idx는 그냥 X_idx로 바꿔도 갠춘루프돌면서. 저장안하는변수\n",
    "        Xj_idx = max(r2_dict, key=r2_dict.get)\n",
    "        feature_names = np.array(X_remain.columns)\n",
    "        paramlist.append(feature_names[Xj_idx])\n",
    "        Xj= X_remain.iloc[:, [Xj_idx]]\n",
    "        lr1.fit(Xj, y)\n",
    "    #X_con = pd.concat([X1, X2], axis = 1) 이문장을 아래와같이 바꿈\n",
    "        if (X_con.empty):\n",
    "            X_con = Xj\n",
    "        else:\n",
    "            X_con = pd.concat([X_con,Xj], axis=1)\n",
    "\n",
    "        X_remain= X_remain.drop(X_remain.columns[Xj_idx], axis = 1)\n",
    "\n",
    "    #     print(\"j번째 X: \", Xj.head(3))\n",
    "    #     print(\"j번째 합친 x:\", X_con.head(3))\n",
    "    #     print(\"j번째 X_remain: \", X_remain.head(3))\n",
    "        lr1.fit(X_con, y)\n",
    "        r2= r2_score(y, lr1.predict(X_con))\n",
    "        print(\"변수\", (j+1), \"개 선택시 파라미터 list: \", paramlist)\n",
    "        model = stats.OLS(y, X_con)\n",
    "        result = model.fit()\n",
    "        bic = result.bic\n",
    "        bicDict[j]= bic\n",
    "        print(\"\\t BIC: \", bic)\n",
    "        print(\"\\t 패키지adjr2: \", result.rsquared_adj, \"\\n\")\n",
    "        adjrD[j] = result.rsquared_adj\n",
    "print(\"가장 낮은 bic의 변수 개수: \", (min(bicDict, key=bicDict.get)+1))\n",
    "print(\"가장 높은 adjr의 변수 개수: \", (max(adjrD, key=adjrD.get)+1))"
   ]
  },
  {
   "cell_type": "markdown",
   "id": "54af8acb",
   "metadata": {},
   "source": [
    "## (a) ii) backward step-wise selection"
   ]
  },
  {
   "cell_type": "code",
   "execution_count": 23,
   "id": "8ef518de",
   "metadata": {
    "scrolled": false
   },
   "outputs": [
    {
     "name": "stdout",
     "output_type": "stream",
     "text": [
      "변수 1 개 제외시 제거 변수 list:  ['age']\n",
      "\t BIC:  3383.229381756349\n",
      "\t 패키지adjr2:  0.5179789936005856\n",
      "변수 2 개 제외시 제거 변수 list:  ['age', 'indus']\n",
      "\t BIC:  3377.71790881363\n",
      "\t 패키지adjr2:  0.5182705255756187\n",
      "변수 3 개 제외시 제거 변수 list:  ['age', 'indus', 'chas']\n",
      "\t BIC:  3372.1818642641347\n",
      "\t 패키지adjr2:  0.5185833026797249\n",
      "변수 4 개 제외시 제거 변수 list:  ['age', 'indus', 'chas', 'tax']\n",
      "\t BIC:  3366.6903634311125\n",
      "\t 패키지adjr2:  0.518851574835435\n",
      "변수 5 개 제외시 제거 변수 list:  ['age', 'indus', 'chas', 'tax', 'rm']\n",
      "\t BIC:  3366.721748108987\n",
      "\t 패키지adjr2:  0.5138402792161607\n",
      "변수 6 개 제외시 제거 변수 list:  ['age', 'indus', 'chas', 'tax', 'rm', 'lstat']\n",
      "\t BIC:  3367.6845541763937\n",
      "\t 패키지adjr2:  0.5078697594366834\n",
      "변수 7 개 제외시 제거 변수 list:  ['age', 'indus', 'chas', 'tax', 'rm', 'lstat', 'ptratio']\n",
      "\t BIC:  3363.403051743113\n",
      "\t 패키지adjr2:  0.5069604782907831\n",
      "변수 8 개 제외시 제거 변수 list:  ['age', 'indus', 'chas', 'tax', 'rm', 'lstat', 'ptratio', 'nox']\n",
      "\t BIC:  3365.3052833011916\n",
      "\t 패키지adjr2:  0.49997400988357177\n",
      "변수 9 개 제외시 제거 변수 list:  ['age', 'indus', 'chas', 'tax', 'rm', 'lstat', 'ptratio', 'nox', 'zn']\n",
      "\t BIC:  3361.8669084304815\n",
      "\t 패키지adjr2:  0.4982107413421969\n",
      "변수 10 개 제외시 제거 변수 list:  ['age', 'indus', 'chas', 'tax', 'rm', 'lstat', 'ptratio', 'nox', 'zn', 'dis']\n",
      "\t BIC:  3355.855521334522\n",
      "\t 패키지adjr2:  0.4989933738264687\n",
      "변수 11 개 제외시 제거 변수 list:  ['age', 'indus', 'chas', 'tax', 'rm', 'lstat', 'ptratio', 'nox', 'zn', 'dis', 'medv']\n",
      "\t BIC:  3393.8220548446307\n",
      "\t 패키지adjr2:  0.45435136167438217\n",
      "가장 낮은 bic의 변수 개수:  2\n",
      "가장 높은 adjr의 변수 개수:  9\n"
     ]
    }
   ],
   "source": [
    "X_remain = X.copy()\n",
    "lr1 = LinearRegression()\n",
    "X_con = pd.DataFrame()\n",
    "unused_paramlist = []\n",
    "bicDict2 = {}\n",
    "adjrD2={}\n",
    "for j in range(X.shape[1]-1):\n",
    "    r2_dict = {}\n",
    "    for i in range(X_remain.shape[1]):\n",
    "#       대신  X_i = X_remain.iloc[:,[i]]\n",
    "        X_remain_view= X_remain.drop(X_remain.columns[i], axis = 1)\n",
    "        lr1.fit(X_remain_view, y)\n",
    "        error = r2_score(y, lr1.predict(X_remain_view))\n",
    "        r2_dict[i]=error\n",
    "    #X2_idx는 그냥 X_idx로 바꿔도 갠춘루프돌면서. 저장안하는변수\n",
    "    Xj_idx = max(r2_dict, key=r2_dict.get)\n",
    "    feature_names = np.array(X_remain.columns)\n",
    "    unused_paramlist.append(feature_names[Xj_idx])\n",
    "    Xj= X_remain.iloc[:, [Xj_idx]]\n",
    "    X_remain = X_remain.drop(X_remain.columns[Xj_idx], axis=1)\n",
    "    lr1.fit(X_remain, y)\n",
    "    print(\"변수\", (j+1),\"개 제외시 제거 변수 list: \", unused_paramlist)\n",
    "    lr1.fit(X_remain, y)\n",
    "    r2= r2_score(y, lr1.predict(X_remain))\n",
    "    model = stats.OLS(y, X_remain)\n",
    "    result = model.fit()\n",
    "    print(\"\\t BIC: \", result.bic)\n",
    "    bicDict2[11-j] = result.bic\n",
    "    adj_r2 = 1-((1-r2)*(X_remain.shape[0]-1)/(X_remain.shape[0]-(j+1)-1))\n",
    "    print(\"\\t 패키지adjr2: \", result.rsquared_adj)\n",
    "    adjrD2[12-j] = result.rsquared_adj\n",
    "print(\"가장 낮은 bic의 변수 개수: \", min(bicDict2, key=bicDict2.get))\n",
    "print(\"가장 높은 adjr의 변수 개수: \", max(adjrD2, key=adjrD2.get))"
   ]
  },
  {
   "cell_type": "raw",
   "id": "7eb3b375",
   "metadata": {},
   "source": [
    "(forward에서 구한) 모든 변수 선택시: \n",
    "\t BIC:  3389.4220564895413\n",
    "\t 패키지adjr2:  0.5170355640341698"
   ]
  },
  {
   "cell_type": "code",
   "execution_count": 24,
   "id": "ed1949da",
   "metadata": {
    "scrolled": true
   },
   "outputs": [
    {
     "name": "stdout",
     "output_type": "stream",
     "text": [
      "forward selection score:  0.42157924340884856\n",
      "coef:  [ 5.56194698e-01 -1.17537701e-03  2.56485639e-01 -2.50322274e+00]\n"
     ]
    }
   ],
   "source": [
    "#bic기준 forward selection\n",
    "lr2 = LinearRegression()\n",
    "X_f = X[['rad', 'tax', 'lstat', 'nox']]\n",
    "lr2.fit(X_f, y)\n",
    "print('forward selection score: ', lr2.score(X_f, y))\n",
    "print('coef: ', lr2.coef_)"
   ]
  },
  {
   "cell_type": "code",
   "execution_count": 25,
   "id": "4825d2fe",
   "metadata": {
    "scrolled": true
   },
   "outputs": [
    {
     "name": "stdout",
     "output_type": "stream",
     "text": [
      "backward selection score:  0.41745027938043744\n",
      "coef:  [ 0.5519009  -0.16375784]\n"
     ]
    }
   ],
   "source": [
    "#bic기준 backward selection\n",
    "lr3 = LinearRegression()\n",
    "X_b = X[['rad', 'medv']]\n",
    "lr3.fit(X_b, y)\n",
    "print('backward selection score: ', lr3.score(X_b, y)) \n",
    "print('coef: ', lr3.coef_)"
   ]
  },
  {
   "cell_type": "markdown",
   "id": "a18bc575",
   "metadata": {},
   "source": [
    "## (a) iii) ridge"
   ]
  },
  {
   "cell_type": "code",
   "execution_count": 26,
   "id": "db07d698",
   "metadata": {
    "scrolled": true
   },
   "outputs": [
    {
     "name": "stdout",
     "output_type": "stream",
     "text": [
      "{'alpha': 5.361336110051605}\n",
      "ridge coefficients:  [ 0.99046037 -0.46991963 -0.20675871 -1.01066293  0.4281705  -0.02588755\n",
      " -1.9878106   4.926048   -0.25443356 -0.5857582   1.0380787  -1.87844436]\n",
      "ridge score:  0.44893471714113986\n"
     ]
    }
   ],
   "source": [
    "X = df1.drop(['crim'], axis = 'columns')\n",
    "y = df1.crim\n",
    "##hyper params tuning\n",
    "kf = KFold(n_splits=10, shuffle=True, random_state=5)\n",
    "    #ridge\n",
    "ridge3 = Ridge()\n",
    "alphas = 10**np.linspace(10,-2,100)*0.5\n",
    "parameters = {'alpha':alphas}\n",
    "ridge_gr = GridSearchCV(ridge3, parameters, scoring='neg_mean_squared_error', cv=kf)\n",
    "ridge_gr.fit(StandardScaler().fit_transform(X), y)\n",
    "print(ridge_gr.best_params_)\n",
    "ridge3 = Ridge(alpha= ridge_gr.best_params_['alpha'])\n",
    "ridge3.fit(StandardScaler().fit_transform(X),y)\n",
    "print(\"ridge coefficients: \", ridge3.coef_)\n",
    "print(\"ridge score: \", ridge3.score(StandardScaler().fit_transform(X),y)) # r2기준 score"
   ]
  },
  {
   "cell_type": "markdown",
   "id": "fc5b01ed",
   "metadata": {},
   "source": [
    "## (a) iv) lasso2"
   ]
  },
  {
   "cell_type": "code",
   "execution_count": 27,
   "id": "31d0d572",
   "metadata": {},
   "outputs": [
    {
     "name": "stdout",
     "output_type": "stream",
     "text": [
      "alpha:  0.020236498255817244\n",
      "\"zn\"  coefficient:  0.9854871505237517\n",
      "\"indus\"  coefficient:  -0.43169196079975064\n",
      "\"chas\"  coefficient:  -0.19267806700944312\n",
      "\"nox\"  coefficient:  -1.0146885349453616\n",
      "\"rm\"  coefficient:  0.379642153907219\n",
      "\"age\"  coefficient:  -0.0\n",
      "\"dis\"  coefficient:  -1.9513011159927467\n",
      "\"rad\"  coefficient:  5.046752277243799\n",
      "\"tax\"  coefficient:  -0.3404470944172445\n",
      "\"ptratio\"  coefficient:  -0.5901919678107613\n",
      "\"lstat\"  coefficient:  0.974945244560609\n",
      "\"medv\"  coefficient:  -1.8706955079828145\n",
      "사용된 feature수 : 11개, \n",
      "제외된 feature 1개 :  age\n",
      "lasso score:  0.44899395161027744\n"
     ]
    }
   ],
   "source": [
    " #Lasso\n",
    "lasso3 = LassoCV(alphas = None, cv=kf, max_iter=10000)\n",
    "lasso3.fit(StandardScaler().fit_transform(X), y)\n",
    "print(\"alpha: \",lasso3.alpha_)\n",
    "lasso3 = Lasso(alpha=lasso3.alpha_)\n",
    "lasso3.fit(StandardScaler().fit_transform(X),y)\n",
    "for i in range(X.shape[1]):\n",
    "    print('\\\"'+X.columns[i]+'\\\"', ' coefficient: ', lasso3.coef_[i])\n",
    "    \n",
    "print(\"사용된 feature수 : 11개, \\n제외된 feature 1개 : \", X.columns[5])\n",
    "print(\"lasso score: \", lasso3.score(StandardScaler().fit_transform(X),y))"
   ]
  },
  {
   "cell_type": "markdown",
   "id": "8a50e9fe",
   "metadata": {},
   "source": [
    "## 2. (b) cross-validation"
   ]
  },
  {
   "cell_type": "markdown",
   "id": "034ad80c",
   "metadata": {},
   "source": [
    "### b)i) linear regression"
   ]
  },
  {
   "cell_type": "code",
   "execution_count": 29,
   "id": "18b781c8",
   "metadata": {
    "scrolled": true
   },
   "outputs": [
    {
     "name": "stdout",
     "output_type": "stream",
     "text": [
      "linear regression cv error:  42.120328224886705\n"
     ]
    }
   ],
   "source": [
    "lr5 = LinearRegression()\n",
    "kf = KFold(n_splits=5, shuffle=True, random_state=1)\n",
    "score5 = cross_val_score(lr5, X, y, cv=kf, scoring='neg_mean_squared_error') \n",
    "mse5 = (-1)*score5.mean()\n",
    "print('linear regression cv error: ', mse5)"
   ]
  },
  {
   "cell_type": "markdown",
   "id": "db35712e",
   "metadata": {},
   "source": [
    "### b)ii) forward selection"
   ]
  },
  {
   "cell_type": "code",
   "execution_count": 30,
   "id": "c27caa61",
   "metadata": {},
   "outputs": [
    {
     "name": "stdout",
     "output_type": "stream",
     "text": [
      "각 M(p)모델별 forward selection cv error:  0     45.289277\n",
      "1     43.222396\n",
      "2     43.161108\n",
      "3     42.933356\n",
      "4     43.043418\n",
      "5     42.868096\n",
      "6     42.678665\n",
      "7     42.763557\n",
      "8     42.542904\n",
      "9     42.540238\n",
      "10    42.499605\n",
      "dtype: float64\n",
      "forward selection cv error:  42.4996048111263\n"
     ]
    }
   ],
   "source": [
    "kf = KFold(n_splits=5, shuffle=True, random_state=1)\n",
    "X = df1.drop(['crim'], axis = 'columns')\n",
    "y = df1.crim\n",
    "error_df = pd.DataFrame()\n",
    "n=0\n",
    "mselist = []\n",
    "lr = LinearRegression()\n",
    "######forward selection using cross-validation\n",
    "for train_idx, test_idx in kf.split(X):   \n",
    "    X_train, X_test, y_train, y_test = X.loc[train_idx], X.loc[test_idx], y.loc[train_idx], y.loc[test_idx]\n",
    "    for i in range(X.shape[1]-1):\n",
    "        sfs1 = sfs(lr, direction='forward', n_features_to_select=i+1, cv=kf)\n",
    "        sfs1.fit(X_train, y_train)\n",
    "        #print(X.columns[sfs1.get_support()])\n",
    "        X_train_sel= X_train.loc[:,sfs1.get_support()]\n",
    "        X_test_sel = X_test.loc[:,sfs1.get_support()]\n",
    "        #print(X_train_sel)\n",
    "        lr.fit(X_train_sel, y_train)\n",
    "        mse = mean_squared_error(y_test, lr.predict(X_test_sel))\n",
    "        error_df.loc[n,i]=mse\n",
    "    n+=1\n",
    "#print(error_df)\n",
    "cv_error = error_df.mean()\n",
    "print(\"각 M(p)모델별 forward selection cv error: \", cv_error)\n",
    "print(\"forward selection cv error: \", min(cv_error))"
   ]
  },
  {
   "cell_type": "markdown",
   "id": "46f01031",
   "metadata": {},
   "source": [
    "### b)iii) backward selection"
   ]
  },
  {
   "cell_type": "code",
   "execution_count": 31,
   "id": "2be503a2",
   "metadata": {},
   "outputs": [
    {
     "name": "stdout",
     "output_type": "stream",
     "text": [
      "각 M(p)모델별 forward selection cv error:  0     45.289277\n",
      "1     43.353344\n",
      "2     43.253285\n",
      "3     42.808766\n",
      "4     42.635412\n",
      "5     42.538380\n",
      "6     42.662366\n",
      "7     42.767304\n",
      "8     42.627428\n",
      "9     42.633027\n",
      "10    42.693356\n",
      "dtype: float64\n"
     ]
    },
    {
     "data": {
      "text/plain": [
       "42.53838027244304"
      ]
     },
     "execution_count": 31,
     "metadata": {},
     "output_type": "execute_result"
    }
   ],
   "source": [
    "X = df1.drop(['crim'], axis = 'columns')\n",
    "y = df1.crim\n",
    "error_df2 = pd.DataFrame()\n",
    "kf = KFold(n_splits=5, shuffle=True, random_state=1)\n",
    "n=0\n",
    "for train_idx, test_idx in kf.split(X):    \n",
    "    X_train, X_test, y_train, y_test = X.loc[train_idx], X.loc[test_idx], y.loc[train_idx], y.loc[test_idx]\n",
    "    for i in range(X.shape[1]-1):\n",
    "        sfs1 = sfs(lr, direction='backward', n_features_to_select=i+1, cv=kf)\n",
    "        sfs1.fit(X_train, y_train)\n",
    "        \n",
    "        X_train_sel= X_train.loc[:,sfs1.get_support()]\n",
    "        X_test_sel = X_test.loc[:,sfs1.get_support()]\n",
    "        lr.fit(X_train_sel, y_train)    \n",
    "        #print(X.columns[sfs1.get_support()])\n",
    "        mse = mean_squared_error(y_test, lr.predict(X_test_sel))\n",
    "        error_df2.loc[n,i]=mse\n",
    "    n+=1\n",
    "cv_error2 = error_df2.mean()\n",
    "print(\"각 M(p)모델별 forward selection cv error: \", cv_error2)\n",
    "min(cv_error2)"
   ]
  },
  {
   "cell_type": "markdown",
   "id": "7a2aef0a",
   "metadata": {},
   "source": [
    "### b)iv)lasso"
   ]
  },
  {
   "cell_type": "code",
   "execution_count": 32,
   "id": "a097f694",
   "metadata": {},
   "outputs": [
    {
     "name": "stdout",
     "output_type": "stream",
     "text": [
      "alpha:  0.05374991578689812\n",
      "r2:  0.4472329074404988\n",
      "[-16.0129356  -65.22224423 -63.63442149 -21.99876408 -43.25530316]\n",
      "cv error:  42.02473371257594\n"
     ]
    }
   ],
   "source": [
    "#data\n",
    "X = df1.drop(['crim'], axis = 'columns')\n",
    "y = df1.crim\n",
    "kf = KFold(n_splits=5, shuffle=True, random_state=1)\n",
    "X_scaled = StandardScaler().fit_transform(X) \n",
    "\n",
    "\n",
    "#Lasso alpha구하기\n",
    "lass2 = LassoCV(alphas = None, cv=kf, max_iter=10000) \n",
    "lass2.fit(X_scaled, y)   \n",
    "print(\"alpha: \",lass2.alpha_)\n",
    "print(\"r2: \", lass2.score(X_scaled,y)) \n",
    "\n",
    "#Lasso: CV mse\n",
    "Lasso3= Lasso(lass2.alpha_)\n",
    "score3 = cross_val_score(Lasso3, X_scaled, y, cv=kf, scoring='neg_mean_squared_error') \n",
    "print(score3)\n",
    "mse3 = (-1)*score3.mean()\n",
    "print('cv error: ', mse3)"
   ]
  },
  {
   "cell_type": "markdown",
   "id": "a1b74b8e",
   "metadata": {},
   "source": [
    "### b)v)ridge"
   ]
  },
  {
   "cell_type": "code",
   "execution_count": 33,
   "id": "a50d229f",
   "metadata": {},
   "outputs": [
    {
     "name": "stdout",
     "output_type": "stream",
     "text": [
      "{'alpha': 6.164233697210342}\n",
      "[-16.37171961 -65.38920929 -63.43537025 -22.04081334 -43.13176901]\n",
      "ridge cv error:  42.0737763010807\n"
     ]
    }
   ],
   "source": [
    "X = df1.drop(['crim'], axis = 'columns')\n",
    "y = df1.crim\n",
    "##hyper params tuning\n",
    "kf = KFold(n_splits=5, shuffle=True, random_state=1)\n",
    "    #ridge\n",
    "ridg = Ridge()\n",
    "alphas = 10**np.linspace(10,-4,100)*0.5\n",
    "parameters = {'alpha':alphas}\n",
    "ridge_gr = GridSearchCV(ridge2, parameters, scoring='neg_mean_squared_error', cv=kf)\n",
    "ridge_gr.fit(StandardScaler().fit_transform(X), y)\n",
    "print(ridge_gr.best_params_)\n",
    "r_alpha=ridge_gr.best_params_['alpha']\n",
    "ridge3 = Ridge(alpha= r_alpha)\n",
    "\n",
    "\n",
    "#ridge mse\n",
    "ridge3= Ridge(r_alpha)\n",
    "score4 = cross_val_score(ridge3, X_scaled, y, cv=kf, scoring='neg_mean_squared_error') \n",
    "print(score4)\n",
    "mse4 = (-1)*score4.mean()\n",
    "print('ridge cv error: ', mse4)"
   ]
  },
  {
   "cell_type": "markdown",
   "id": "5f3d0283",
   "metadata": {},
   "source": [
    "### (c) features"
   ]
  },
  {
   "cell_type": "code",
   "execution_count": 34,
   "id": "0567dc3d",
   "metadata": {},
   "outputs": [
    {
     "name": "stdout",
     "output_type": "stream",
     "text": [
      "lasso alpha:  0.05374991578689812\n",
      "\"zn\"  coefficient:  0.8667056976899319\n",
      "\"indus\"  coefficient:  -0.43847712781981374\n",
      "\"chas\"  coefficient:  -0.1687793792155293\n",
      "\"nox\"  coefficient:  -0.7673815711401292\n",
      "\"rm\"  coefficient:  0.28333209090928274\n",
      "\"age\"  coefficient:  -0.0\n",
      "\"dis\"  coefficient:  -1.670814196505264\n",
      "\"rad\"  coefficient:  4.683328397027171\n",
      "\"tax\"  coefficient:  -0.0\n",
      "\"ptratio\"  coefficient:  -0.47379862713398746\n",
      "\"lstat\"  coefficient:  0.955857754502836\n",
      "\"medv\"  coefficient:  -1.6334482204774372\n",
      "사용된 feature수 : 10개, \n",
      "제외된 feature 2개 :  age and tax\n",
      "lasso score:  0.4472329074404988\n"
     ]
    }
   ],
   "source": [
    "#lasso기준 선택\n",
    "lasso4= Lasso(lass2.alpha_)\n",
    "print(\"lasso alpha: \", lass2.alpha_)\n",
    "X_scaled = StandardScaler().fit_transform(X) \n",
    "lasso4.fit(X_scaled, y)\n",
    "for i in range(X.shape[1]):\n",
    "    print('\\\"'+X.columns[i]+'\\\"', ' coefficient: ', lasso4.coef_[i])\n",
    "    \n",
    "print(\"사용된 feature수 : 10개, \\n제외된 feature 2개 : \", X.columns[5], \"and\", X.columns[8])\n",
    "print(\"lasso score: \", lasso4.score(StandardScaler().fit_transform(X),y))"
   ]
  },
  {
   "cell_type": "code",
   "execution_count": null,
   "id": "02089ffb",
   "metadata": {},
   "outputs": [],
   "source": []
  }
 ],
 "metadata": {
  "kernelspec": {
   "display_name": "Python 3 (ipykernel)",
   "language": "python",
   "name": "python3"
  },
  "language_info": {
   "codemirror_mode": {
    "name": "ipython",
    "version": 3
   },
   "file_extension": ".py",
   "mimetype": "text/x-python",
   "name": "python",
   "nbconvert_exporter": "python",
   "pygments_lexer": "ipython3",
   "version": "3.10.9"
  }
 },
 "nbformat": 4,
 "nbformat_minor": 5
}
